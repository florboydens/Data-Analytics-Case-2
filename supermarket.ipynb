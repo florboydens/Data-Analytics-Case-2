{
 "cells": [
  {
   "cell_type": "code",
   "execution_count": null,
   "metadata": {},
   "outputs": [],
   "source": [
    "import pandas as pd\n"
   ]
  },
  {
   "cell_type": "code",
   "execution_count": null,
   "metadata": {},
   "outputs": [],
   "source": [
    "\n",
    "# Define paths to the CSV files\n",
    "data_path = 'data/data.csv'\n",
    "test_path = 'data/test.csv'\n",
    "stores_path = 'data/stores.csv'\n",
    "transactions_path = 'data/transactions.csv'\n",
    "oil_path = 'data/oil(India).csv'\n",
    "holidays_events_path = 'data/holidays_events(India).csv'\n",
    "items_path = 'data/items.csv'\n",
    "\n",
    "# Loading the datasets\n",
    "def load_csv(file_path):\n",
    "    return pd.read_csv(file_path)\n",
    "\n",
    "# data = load_csv(data_path)\n",
    "# test = load_csv(test_path)\n",
    "stores = load_csv(stores_path)\n",
    "transactions = load_csv(transactions_path)\n",
    "oil = load_csv(oil_path)\n",
    "holidays_events = load_csv(holidays_events_path)\n",
    "items = load_csv(items_path)\n",
    "\n",
    "# Example: Display the first few rows of each dataset\n",
    "\"\"\" print(data.head())\n",
    "print(test.head()) \"\"\"\n",
    "print(stores.head())\n",
    "print(transactions.head())\n",
    "print(oil.head())\n",
    "print(holidays_events.head())\n",
    "print(items.head())"
   ]
  }
 ],
 "metadata": {
  "kernelspec": {
   "display_name": "Python 3 (ipykernel)",
   "language": "python",
   "name": "python3"
  },
  "language_info": {
   "codemirror_mode": {
    "name": "ipython",
    "version": 3
   },
   "file_extension": ".py",
   "mimetype": "text/x-python",
   "name": "python",
   "nbconvert_exporter": "python",
   "pygments_lexer": "ipython3",
   "version": "3.12.2"
  }
 },
 "nbformat": 4,
 "nbformat_minor": 2
}
