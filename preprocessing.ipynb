{
 "cells": [
  {
   "cell_type": "code",
   "execution_count": 3,
   "metadata": {},
   "outputs": [],
   "source": [
    "# !pip install pandas\n",
    "# !pip install matplotlib\n",
    "# %pip install numpy\n",
    "\n",
    "import numpy as np\n",
    "import pandas as pd\n",
    "import datetime as dt\n",
    "from matplotlib import pyplot as plt\n",
    "import matplotlib.dates as mdates\n"
   ]
  },
  {
   "cell_type": "code",
   "execution_count": null,
   "metadata": {},
   "outputs": [],
   "source": [
    "def clearvars():    \n",
    "    for el in sorted(globals()):\n",
    "        if '__' not in el:\n",
    "                print(f'deleted: {el}')\n",
    "                del el\n",
    "clearvars()"
   ]
  },
  {
   "cell_type": "code",
   "execution_count": null,
   "metadata": {},
   "outputs": [],
   "source": [
    "base_path = 'dataRaw/'\n",
    "dataRaw = pd.read_csv(base_path + 'data.csv', sep=',', low_memory=False)\n",
    "holidays_events = pd.read_csv(base_path + 'holidays_events(India).csv', sep=';')\n",
    "items = pd.read_csv(base_path + 'items.csv', sep=';', low_memory=False)\n",
    "oilRaw = pd.read_csv(base_path + 'oil(India).csv', sep=',', skipinitialspace=True)\n",
    "stores = pd.read_csv(base_path + 'stores.csv', sep=';', encoding='ISO-8859-1')\n",
    "testRaw = pd.read_csv(base_path + 'test.csv', sep=',')\n",
    "transactions = pd.read_csv(base_path + 'transactions.csv', sep=',')\n"
   ]
  },
  {
   "cell_type": "code",
   "execution_count": null,
   "metadata": {},
   "outputs": [],
   "source": [
    "test = testRaw.copy()\n",
    "test['date'] = pd.to_datetime(test['date'], format='%Y-%m-%d')\n",
    "\n",
    "\"\"\" \n",
    "test.to_csv('data/test.csv', index=False)\n",
    "...\n",
    "> git push origin main:main\n",
    "remote: warning: File data/data.csv is 97.48 MB; this is larger than GitHub's recommended maximum file size of 50.00 MB        \n",
    "remote: error: Trace: 1893eb15bdf7f635df2b684318eb9e043acf69b4fd0972befff55923a89088df        \n",
    "remote: error: See https://gh.io/lfs for more information.        \n",
    "remote: error: File data/test.csv is 120.32 MB; this exceeds GitHub's file size limit of 100.00 MB        \n",
    "remote: error: GH001: Large files detected. You may want to try Git Large File Storage - https://git-lfs.github.com.        \n",
    "To https://github.com/florboydens/Data-Analytics-Case-2.git\n",
    " ! [remote rejected] main -> main (pre-receive hook declined)\n",
    "error: failed to push some refs to 'https://github.com/florboydens/Data-Analytics-Case-2.git' \n",
    "\"\"\""
   ]
  },
  {
   "cell_type": "code",
   "execution_count": null,
   "metadata": {},
   "outputs": [],
   "source": [
    "data = dataRaw.copy()\n",
    "data['date'] = pd.to_datetime(dataRaw['date'], format='%Y-%m-%d')\n",
    "data['unit_sales'] = dataRaw['unit_sales'].round(2)\n",
    "\n",
    "\"\"\" \n",
    "data.to_csv('data/data.csv', index=False)\n",
    "...\n",
    "Zelfde reden als de Test file, te groot\n",
    "\"\"\""
   ]
  },
  {
   "cell_type": "code",
   "execution_count": null,
   "metadata": {},
   "outputs": [],
   "source": [
    "mask = oilRaw['dcoilwtico;;'].str.contains('%')\n",
    "oilExtra = oilRaw[mask]\n",
    "oil = oilRaw[~mask]\n",
    "oil.reset_index(drop=True, inplace=True)\n",
    "\n",
    "oil['dcoilwtico;;'] = oil['dcoilwtico;;'].str.replace(';', '')\n",
    "oil['dcoilwtico;;'] = oil['dcoilwtico;;'].apply(lambda x: x.strip())\n",
    "oil = oil[~(oil['dcoilwtico;;'] == '')]\n",
    "\n",
    "try:\n",
    "    oil['dcoilwtico;;'] = oil['dcoilwtico;;'].astype(float).round(2)\n",
    "except:\n",
    "    oil.dropna(subset=['dcoilwtico;;'], inplace=True)\n",
    "\n",
    "oil.rename(columns={'dcoilwtico;;': 'dcoilwtico'}, inplace=True)"
   ]
  }
 ],
 "metadata": {
  "kernelspec": {
   "display_name": "data-analytics-kernel-case-2",
   "language": "python",
   "name": "data-analytics-kernel-case-2"
  },
  "language_info": {
   "codemirror_mode": {
    "name": "ipython",
    "version": 3
   },
   "file_extension": ".py",
   "mimetype": "text/x-python",
   "name": "python",
   "nbconvert_exporter": "python",
   "pygments_lexer": "ipython3",
   "version": "3.12.2"
  }
 },
 "nbformat": 4,
 "nbformat_minor": 2
}
