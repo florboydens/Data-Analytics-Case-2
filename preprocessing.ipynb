{
 "cells": [
  {
   "cell_type": "code",
   "execution_count": 17,
   "metadata": {},
   "outputs": [],
   "source": [
    "# !pip install pandas\n",
    "# !pip install matplotlib\n",
    "# %pip install numpy\n",
    "# %pip install plotly\n",
    "\n",
    "import numpy as np\n",
    "import pandas as pd\n",
    "import datetime as dt\n",
    "from matplotlib import pyplot as plt\n",
    "import matplotlib.dates as mdates\n",
    "import plotly.express as px\n"
   ]
  },
  {
   "cell_type": "code",
   "execution_count": 18,
   "metadata": {},
   "outputs": [
    {
     "name": "stdout",
     "output_type": "stream",
     "text": [
      "deleted: In\n",
      "deleted: Out\n",
      "deleted: _\n",
      "deleted: _14\n",
      "deleted: _15\n",
      "deleted: _7\n",
      "deleted: _8\n",
      "deleted: _dh\n",
      "deleted: _i\n",
      "deleted: _i1\n",
      "deleted: _i10\n",
      "deleted: _i11\n",
      "deleted: _i12\n",
      "deleted: _i13\n",
      "deleted: _i14\n",
      "deleted: _i15\n",
      "deleted: _i16\n",
      "deleted: _i17\n",
      "deleted: _i18\n",
      "deleted: _i2\n",
      "deleted: _i3\n",
      "deleted: _i4\n",
      "deleted: _i5\n",
      "deleted: _i6\n",
      "deleted: _i7\n",
      "deleted: _i8\n",
      "deleted: _i9\n",
      "deleted: _ih\n",
      "deleted: _ii\n",
      "deleted: _iii\n",
      "deleted: _oh\n",
      "deleted: base_path\n",
      "deleted: clearvars\n",
      "deleted: data\n",
      "deleted: dataRaw\n",
      "deleted: dt\n",
      "deleted: exit\n",
      "deleted: get_ipython\n",
      "deleted: holidays_events\n",
      "deleted: items\n",
      "deleted: mask\n",
      "deleted: mdates\n",
      "deleted: np\n",
      "deleted: oil\n",
      "deleted: oilExtra\n",
      "deleted: oilRaw\n",
      "deleted: open\n",
      "deleted: pd\n",
      "deleted: plt\n",
      "deleted: quit\n",
      "deleted: stores\n",
      "deleted: test\n",
      "deleted: testRaw\n",
      "deleted: transactions\n"
     ]
    }
   ],
   "source": [
    "def clearvars():    \n",
    "    for el in sorted(globals()):\n",
    "        if '__' not in el:\n",
    "                print(f'deleted: {el}')\n",
    "                del el\n",
    "clearvars()"
   ]
  },
  {
   "cell_type": "code",
   "execution_count": 19,
   "metadata": {},
   "outputs": [],
   "source": [
    "base_path = 'dataRaw/'\n",
    "dataRaw = pd.read_csv(base_path + 'data.csv', sep=',', low_memory=False)\n",
    "holidays_events = pd.read_csv(base_path + 'holidays_events(India).csv', sep=';')\n",
    "items = pd.read_csv(base_path + 'items.csv', sep=';', low_memory=False)\n",
    "oilRaw = pd.read_csv(base_path + 'oil(India).csv', sep=',', skipinitialspace=True)\n",
    "stores = pd.read_csv(base_path + 'stores.csv', sep=';', encoding='ISO-8859-1')\n",
    "testRaw = pd.read_csv(base_path + 'test.csv', sep=',')\n",
    "transactions = pd.read_csv(base_path + 'transactions.csv', sep=',')\n"
   ]
  },
  {
   "cell_type": "code",
   "execution_count": 20,
   "metadata": {},
   "outputs": [
    {
     "data": {
      "text/plain": [
       "\" \\ntest.to_csv('data/test.csv', index=False)\\n...\\n> git push origin main:main\\nremote: warning: File data/data.csv is 97.48 MB; this is larger than GitHub's recommended maximum file size of 50.00 MB        \\nremote: error: Trace: 1893eb15bdf7f635df2b684318eb9e043acf69b4fd0972befff55923a89088df        \\nremote: error: See https://gh.io/lfs for more information.        \\nremote: error: File data/test.csv is 120.32 MB; this exceeds GitHub's file size limit of 100.00 MB        \\nremote: error: GH001: Large files detected. You may want to try Git Large File Storage - https://git-lfs.github.com.        \\nTo https://github.com/florboydens/Data-Analytics-Case-2.git\\n ! [remote rejected] main -> main (pre-receive hook declined)\\nerror: failed to push some refs to 'https://github.com/florboydens/Data-Analytics-Case-2.git' \\n\""
      ]
     },
     "execution_count": 20,
     "metadata": {},
     "output_type": "execute_result"
    }
   ],
   "source": [
    "test = testRaw.copy()\n",
    "test['date'] = pd.to_datetime(test['date'], format='%Y-%m-%d')\n",
    "\n",
    "\"\"\" \n",
    "test.to_csv('data/test.csv', index=False)\n",
    "...\n",
    "> git push origin main:main\n",
    "remote: warning: File data/data.csv is 97.48 MB; this is larger than GitHub's recommended maximum file size of 50.00 MB        \n",
    "remote: error: Trace: 1893eb15bdf7f635df2b684318eb9e043acf69b4fd0972befff55923a89088df        \n",
    "remote: error: See https://gh.io/lfs for more information.        \n",
    "remote: error: File data/test.csv is 120.32 MB; this exceeds GitHub's file size limit of 100.00 MB        \n",
    "remote: error: GH001: Large files detected. You may want to try Git Large File Storage - https://git-lfs.github.com.        \n",
    "To https://github.com/florboydens/Data-Analytics-Case-2.git\n",
    " ! [remote rejected] main -> main (pre-receive hook declined)\n",
    "error: failed to push some refs to 'https://github.com/florboydens/Data-Analytics-Case-2.git' \n",
    "\"\"\""
   ]
  },
  {
   "cell_type": "code",
   "execution_count": 21,
   "metadata": {},
   "outputs": [
    {
     "name": "stderr",
     "output_type": "stream",
     "text": [
      "C:\\Users\\Cursist\\AppData\\Local\\Temp\\ipykernel_12792\\3614289742.py:4: FutureWarning: A value is trying to be set on a copy of a DataFrame or Series through chained assignment using an inplace method.\n",
      "The behavior will change in pandas 3.0. This inplace method will never work because the intermediate object on which we are setting values always behaves as a copy.\n",
      "\n",
      "For example, when doing 'df[col].method(value, inplace=True)', try using 'df.method({col: value}, inplace=True)' or df[col] = df[col].method(value) instead, to perform the operation inplace on the original object.\n",
      "\n",
      "\n",
      "  data['onpromotion'].fillna(False, inplace=True)\n",
      "C:\\Users\\Cursist\\AppData\\Local\\Temp\\ipykernel_12792\\3614289742.py:4: FutureWarning: Downcasting object dtype arrays on .fillna, .ffill, .bfill is deprecated and will change in a future version. Call result.infer_objects(copy=False) instead. To opt-in to the future behavior, set `pd.set_option('future.no_silent_downcasting', True)`\n",
      "  data['onpromotion'].fillna(False, inplace=True)\n"
     ]
    },
    {
     "data": {
      "text/plain": [
       "\" \\ndata.to_csv('data/data.csv', index=False)\\n...\\nZelfde reden als de Test file, te groot\\n\""
      ]
     },
     "execution_count": 21,
     "metadata": {},
     "output_type": "execute_result"
    }
   ],
   "source": [
    "data = dataRaw.copy()\n",
    "data['date'] = pd.to_datetime(dataRaw['date'], format='%Y-%m-%d')\n",
    "data['unit_sales'] = dataRaw['unit_sales'].round(2)\n",
    "data['onpromotion'].fillna(False, inplace=True)\n",
    "\n",
    "\"\"\" \n",
    "data.to_csv('data/data.csv', index=False)\n",
    "...\n",
    "Zelfde reden als de Test file, te groot\n",
    "\"\"\""
   ]
  },
  {
   "cell_type": "code",
   "execution_count": 22,
   "metadata": {},
   "outputs": [],
   "source": [
    "mask = oilRaw['dcoilwtico;;'].str.contains('%')\n",
    "oilExtra = oilRaw[mask].copy()\n",
    "oil = oilRaw[~mask].copy()\n",
    "oil.reset_index(drop=True, inplace=True)\n",
    "oil['dcoilwtico;;'] = oil['dcoilwtico;;'].str.replace(';', '')\n",
    "oil['dcoilwtico;;'] = oil['dcoilwtico;;'].apply(lambda x: x.strip())\n",
    "oil = oil[~(oil['dcoilwtico;;'] == '')]\n",
    "try:\n",
    "    oil['dcoilwtico;;'] = oil['dcoilwtico;;'].astype(float).round(2)\n",
    "except:\n",
    "    oil.dropna(subset=['dcoilwtico;;'], inplace=True)\n",
    "oil.rename(columns={'dcoilwtico;;': 'dcoilwtico'}, inplace=True)\n",
    "\n",
    "# --------------------------------------------------------------------------------------------\n",
    "\n",
    "oil.to_csv('data/oil.csv', index=False)\n",
    "oilExtra.to_csv('data/oilExtra.csv', index=False)\n"
   ]
  },
  {
   "cell_type": "code",
   "execution_count": null,
   "metadata": {},
   "outputs": [],
   "source": []
  }
 ],
 "metadata": {
  "kernelspec": {
   "display_name": "data-analytics-kernel-case-2",
   "language": "python",
   "name": "data-analytics-kernel-case-2"
  },
  "language_info": {
   "codemirror_mode": {
    "name": "ipython",
    "version": 3
   },
   "file_extension": ".py",
   "mimetype": "text/x-python",
   "name": "python",
   "nbconvert_exporter": "python",
   "pygments_lexer": "ipython3",
   "version": "3.12.2"
  }
 },
 "nbformat": 4,
 "nbformat_minor": 2
}
