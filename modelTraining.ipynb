{
 "cells": [
  {
   "cell_type": "code",
   "execution_count": 1,
   "metadata": {},
   "outputs": [],
   "source": [
    "import numpy as np\n",
    "import pandas as pd\n",
    "import datetime as dt\n",
    "import matplotlib.pyplot as plt\n",
    "import matplotlib.dates as mdates\n",
    "import plotly.express as px\n",
    "import seaborn as sns\n",
    "import geopandas as gpd\n",
    "import shapefile as shp\n",
    "from shapely.geometry import Point\n",
    "from itertools import product\n",
    "from sklearn.model_selection import train_test_split\n",
    "from sklearn.ensemble import RandomForestRegressor\n",
    "from sklearn.metrics import mean_squared_error"
   ]
  },
  {
   "cell_type": "code",
   "execution_count": null,
   "metadata": {},
   "outputs": [],
   "source": [
    "base_path = 'data/'\n",
    "holidays_events = pd.read_csv(base_path + 'holidays_events.csv')\n",
    "items = pd.read_csv(base_path + 'items.csv')\n",
    "oil = pd.read_csv(base_path + 'oil.csv')\n",
    "oil_INR = pd.read_csv(base_path + 'oil(INR).csv', sep=',', skipinitialspace=True)\n",
    "stores = pd.read_csv(base_path + 'stores.csv')\n",
    "transactions = pd.read_csv(base_path + 'transactions.csv')\n",
    "\n",
    "test = pd.read_csv('dataRaw/test.csv', sep=',')\n",
    "test['date'] = pd.to_datetime(test['date'], format='%Y-%m-%d')\n",
    "\n",
    "data = pd.read_csv('dataRaw/data.csv', sep=',', low_memory=False)\n",
    "data['date'] = pd.to_datetime(data['date'], format='%Y-%m-%d')\n",
    "data['unit_sales'] = data['unit_sales'].round(2)\n",
    "data['onpromotion'].fillna(False, inplace=True)"
   ]
  },
  {
   "cell_type": "code",
   "execution_count": null,
   "metadata": {},
   "outputs": [],
   "source": [
    "# Aggregating sales data monthly, using 'year' and 'month' for grouping\n",
    "monthly_sales_simplified = data.groupby(['store_nbr', 'item_nbr', 'year', 'month'])['unit_sales'].sum().reset_index()\n",
    "\n",
    "# Preparing the features (X) and target variable (y) for the model\n",
    "# Note: This simplistic approach uses store number, item number, year, and month as features\n",
    "# In a more refined model, additional features like promotions, holidays, and oil prices could be included to improve predictions\n",
    "X = monthly_sales_simplified[['store_nbr', 'item_nbr', 'year', 'month']]  # Features\n",
    "y = monthly_sales_simplified['unit_sales']  # Target variable\n",
    "\n",
    "# Splitting the dataset into training and testing sets, considering a chronological split\n",
    "# Here we ensure that we're respecting the time series nature of our data\n",
    "X_train, X_test, y_train, y_test = train_test_split(X, y, test_size=0.2, shuffle=False)\n",
    "\n",
    "# Constructing the Random Forest model\n",
    "# Random Forest is chosen for its ability to handle non-linear data and its robustness against overfitting with many decision trees\n",
    "rf_model = RandomForestRegressor(n_estimators=100, random_state=42)  # Using 100 trees for a balance between performance and computational efficiency\n",
    "\n",
    "# Training the model with our training data\n",
    "rf_model.fit(X_train, y_train)\n",
    "\n",
    "# Predicting the sales on the test set\n",
    "y_pred = rf_model.predict(X_test)\n",
    "\n",
    "# Evaluating the model's performance using Root Mean Squared Error (RMSE), a common metric for regression models\n",
    "mse = mean_squared_error(y_test, y_pred)\n",
    "rmse = np.sqrt(mse) \n",
    "print(f\"Model's RMSE: {rmse}\")"
   ]
  },
  {
   "cell_type": "code",
   "execution_count": null,
   "metadata": {},
   "outputs": [],
   "source": [
    "plt.figure(figsize=(10, 6))\n",
    "plt.plot(y_test.reset_index(drop=True), label='Actual Sales', color='blue')\n",
    "plt.plot(y_pred, label='Predicted Sales', color='red')\n",
    "plt.title('Actual vs Predicted Sales')\n",
    "plt.xlabel('Time (in Months)')\n",
    "plt.ylabel('Sales')\n",
    "plt.legend()\n",
    "plt.show()"
   ]
  },
  {
   "cell_type": "code",
   "execution_count": null,
   "metadata": {},
   "outputs": [],
   "source": [
    "# Let's first establish the range of stores and items from our training set for which we want to forecast\n",
    "unique_stores = X_train['store_nbr'].unique()\n",
    "unique_items = X_train['item_nbr'].unique()\n",
    "\n",
    "# Now, we generate combinations of 'store_nbr', 'item_nbr', 'year', and 'month' for the next year\n",
    "# For this demonstration, let's take just a single store and item as an example\n",
    "future_months = pd.DataFrame(list(product([unique_stores[0]], [unique_items[0]], [max_year + 1], range(1, 13))),\n",
    "                             columns=['store_nbr', 'item_nbr', 'year', 'month'])\n",
    "\n",
    "# Predicting future sales for these combinations\n",
    "future_sales_predictions = rf_model.predict(future_months)\n",
    "\n",
    "# Plotting the future sales predictions\n",
    "plt.figure(figsize=(10, 6))\n",
    "months = range(1, 13)  # Months from January to December\n",
    "plt.plot(months, future_sales_predictions, label='Projected Sales', color='green')\n",
    "plt.title(f'Projected Sales for the Year {max_year + 1}')\n",
    "plt.xlabel('Month')\n",
    "plt.ylabel('Sales')\n",
    "plt.xticks(ticks=months)  # Set x-ticks to be the months\n",
    "plt.legend()\n",
    "plt.show()"
   ]
  }
 ],
 "metadata": {
  "kernelspec": {
   "display_name": "data-analytics-kernel-case-2",
   "language": "python",
   "name": "data-analytics-kernel-case-2"
  },
  "language_info": {
   "codemirror_mode": {
    "name": "ipython",
    "version": 3
   },
   "file_extension": ".py",
   "mimetype": "text/x-python",
   "name": "python",
   "nbconvert_exporter": "python",
   "pygments_lexer": "ipython3",
   "version": "3.12.2"
  }
 },
 "nbformat": 4,
 "nbformat_minor": 2
}
